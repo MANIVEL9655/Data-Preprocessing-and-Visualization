{
 "cells": [
  {
   "cell_type": "code",
   "execution_count": 3,
   "id": "7f8b2119",
   "metadata": {},
   "outputs": [
    {
     "name": "stdout",
     "output_type": "stream",
     "text": [
      "Cannot perform divison\n",
      "Successfull completion\n"
     ]
    }
   ],
   "source": [
    "a=10\n",
    "b=0\n",
    "try:\n",
    "    c=a/b\n",
    "    print(c)\n",
    "except ArithmeticError:\n",
    "    print(\"Cannot perform divison\")\n",
    "finally:\n",
    "    print(\"Successfull completion\")"
   ]
  },
  {
   "cell_type": "code",
   "execution_count": 4,
   "id": "24d9a4af",
   "metadata": {},
   "outputs": [
    {
     "data": {
      "text/plain": [
       "array([0, 1, 2, 3, 4, 5, 6, 7, 8, 9, 10, 11, 12, 13, 14], dtype=object)"
      ]
     },
     "execution_count": 4,
     "metadata": {},
     "output_type": "execute_result"
    }
   ],
   "source": [
    "import numpy as np\n",
    "ndarray = np.arange(0,15,dtype=object)\n",
    "ndarray"
   ]
  },
  {
   "cell_type": "code",
   "execution_count": 5,
   "id": "606b0963",
   "metadata": {},
   "outputs": [],
   "source": [
    "array =  np.arange(0,15).reshape(5,3)"
   ]
  },
  {
   "cell_type": "code",
   "execution_count": 6,
   "id": "efabdc7d",
   "metadata": {},
   "outputs": [
    {
     "data": {
      "text/plain": [
       "array([[ 0,  1,  2],\n",
       "       [ 3,  4,  5],\n",
       "       [ 6,  7,  8],\n",
       "       [ 9, 10, 11],\n",
       "       [12, 13, 14]])"
      ]
     },
     "execution_count": 6,
     "metadata": {},
     "output_type": "execute_result"
    }
   ],
   "source": [
    "array"
   ]
  },
  {
   "cell_type": "code",
   "execution_count": 7,
   "id": "99f4d524",
   "metadata": {},
   "outputs": [],
   "source": [
    "import numpy as np\n",
    "a=[[[10,30,25],[25,35,45],[100,300,200]]]"
   ]
  },
  {
   "cell_type": "code",
   "execution_count": 8,
   "id": "a0f2dbd0",
   "metadata": {},
   "outputs": [
    {
     "data": {
      "text/plain": [
       "[[[10, 30, 25], [25, 35, 45], [100, 300, 200]]]"
      ]
     },
     "execution_count": 8,
     "metadata": {},
     "output_type": "execute_result"
    }
   ],
   "source": [
    "a"
   ]
  },
  {
   "cell_type": "code",
   "execution_count": 9,
   "id": "7d9d7543",
   "metadata": {},
   "outputs": [],
   "source": [
    "import numpy as np\n",
    "a=np.array([[[10,30,25],[25,35,45],[100,300,200],[203,303,403],[204,304,404],[5,2,1]]])"
   ]
  },
  {
   "cell_type": "code",
   "execution_count": 10,
   "id": "5f602d2b",
   "metadata": {},
   "outputs": [
    {
     "data": {
      "text/plain": [
       "array([[[ 10,  30,  25],\n",
       "        [ 25,  35,  45],\n",
       "        [100, 300, 200],\n",
       "        [203, 303, 403],\n",
       "        [204, 304, 404],\n",
       "        [  5,   2,   1]]])"
      ]
     },
     "execution_count": 10,
     "metadata": {},
     "output_type": "execute_result"
    }
   ],
   "source": [
    "a"
   ]
  },
  {
   "cell_type": "code",
   "execution_count": 11,
   "id": "161d6737",
   "metadata": {},
   "outputs": [
    {
     "data": {
      "text/plain": [
       "3"
      ]
     },
     "execution_count": 11,
     "metadata": {},
     "output_type": "execute_result"
    }
   ],
   "source": [
    "a.ndim"
   ]
  },
  {
   "cell_type": "code",
   "execution_count": 12,
   "id": "8d44dca0",
   "metadata": {},
   "outputs": [
    {
     "data": {
      "text/plain": [
       "(1, 6, 3)"
      ]
     },
     "execution_count": 12,
     "metadata": {},
     "output_type": "execute_result"
    }
   ],
   "source": [
    "a.shape"
   ]
  },
  {
   "cell_type": "code",
   "execution_count": 13,
   "id": "e898eab6",
   "metadata": {},
   "outputs": [
    {
     "data": {
      "text/plain": [
       "(1, 6, 3)"
      ]
     },
     "execution_count": 13,
     "metadata": {},
     "output_type": "execute_result"
    }
   ],
   "source": [
    "np.shape(a)"
   ]
  },
  {
   "cell_type": "code",
   "execution_count": 14,
   "id": "fd141208",
   "metadata": {},
   "outputs": [
    {
     "data": {
      "text/plain": [
       "array([[ 10,  30,  25],\n",
       "       [ 25,  35,  45],\n",
       "       [100, 300, 200],\n",
       "       [203, 303, 403],\n",
       "       [204, 304, 404],\n",
       "       [  5,   2,   1]])"
      ]
     },
     "execution_count": 14,
     "metadata": {},
     "output_type": "execute_result"
    }
   ],
   "source": [
    "a[0]"
   ]
  },
  {
   "cell_type": "code",
   "execution_count": 15,
   "id": "3edf5202",
   "metadata": {},
   "outputs": [
    {
     "data": {
      "text/plain": [
       "array([10, 30, 25])"
      ]
     },
     "execution_count": 15,
     "metadata": {},
     "output_type": "execute_result"
    }
   ],
   "source": [
    "\n",
    "a[0][0]"
   ]
  },
  {
   "cell_type": "code",
   "execution_count": 16,
   "id": "42232a7b",
   "metadata": {},
   "outputs": [
    {
     "data": {
      "text/plain": [
       "np.int64(10)"
      ]
     },
     "execution_count": 16,
     "metadata": {},
     "output_type": "execute_result"
    }
   ],
   "source": [
    "a[0][0][0]"
   ]
  },
  {
   "cell_type": "code",
   "execution_count": 17,
   "id": "e5fb7e76",
   "metadata": {},
   "outputs": [
    {
     "data": {
      "text/plain": [
       "(6, 3)"
      ]
     },
     "execution_count": 17,
     "metadata": {},
     "output_type": "execute_result"
    }
   ],
   "source": [
    "np.shape(a[0])"
   ]
  },
  {
   "cell_type": "code",
   "execution_count": 18,
   "id": "17ad9e4a",
   "metadata": {},
   "outputs": [
    {
     "data": {
      "text/plain": [
       "(3,)"
      ]
     },
     "execution_count": 18,
     "metadata": {},
     "output_type": "execute_result"
    }
   ],
   "source": [
    "np.shape(a[0][0])"
   ]
  },
  {
   "cell_type": "code",
   "execution_count": 19,
   "id": "bd1809f0",
   "metadata": {},
   "outputs": [
    {
     "data": {
      "text/plain": [
       "array([[[ 10,  30,  25],\n",
       "        [ 25,  35,  45],\n",
       "        [100, 300, 200],\n",
       "        [203, 303, 403],\n",
       "        [204, 304, 404],\n",
       "        [  5,   2,   1]]])"
      ]
     },
     "execution_count": 19,
     "metadata": {},
     "output_type": "execute_result"
    }
   ],
   "source": [
    "a"
   ]
  },
  {
   "cell_type": "code",
   "execution_count": 20,
   "id": "cb257321",
   "metadata": {},
   "outputs": [
    {
     "data": {
      "text/plain": [
       "array([[ 547,  974, 1078]])"
      ]
     },
     "execution_count": 20,
     "metadata": {},
     "output_type": "execute_result"
    }
   ],
   "source": [
    "np.sum(a,axis=1)"
   ]
  },
  {
   "cell_type": "code",
   "execution_count": 21,
   "id": "da216cdd",
   "metadata": {},
   "outputs": [
    {
     "data": {
      "text/plain": [
       "numpy.ndarray"
      ]
     },
     "execution_count": 21,
     "metadata": {},
     "output_type": "execute_result"
    }
   ],
   "source": [
    "type(a)"
   ]
  },
  {
   "cell_type": "code",
   "execution_count": 22,
   "id": "bbe66e66",
   "metadata": {},
   "outputs": [
    {
     "data": {
      "text/plain": [
       "array([[ 10,  30,  25],\n",
       "       [ 25,  35,  45],\n",
       "       [100, 300, 200],\n",
       "       [203, 303, 403],\n",
       "       [204, 304, 404],\n",
       "       [  5,   2,   1]])"
      ]
     },
     "execution_count": 22,
     "metadata": {},
     "output_type": "execute_result"
    }
   ],
   "source": [
    "np.sum(a,axis=0)"
   ]
  },
  {
   "cell_type": "code",
   "execution_count": 23,
   "id": "7fa0d4e4",
   "metadata": {},
   "outputs": [
    {
     "data": {
      "text/plain": [
       "array([[ 10,  30,  25],\n",
       "       [ 25,  35,  45],\n",
       "       [100, 300, 200],\n",
       "       [203, 303, 403],\n",
       "       [204, 304, 404],\n",
       "       [  5,   2,   1]])"
      ]
     },
     "execution_count": 23,
     "metadata": {},
     "output_type": "execute_result"
    }
   ],
   "source": [
    "a[0]"
   ]
  },
  {
   "cell_type": "code",
   "execution_count": null,
   "id": "a7b7c1e6",
   "metadata": {},
   "outputs": [],
   "source": []
  },
  {
   "cell_type": "code",
   "execution_count": 24,
   "id": "57eba4ca",
   "metadata": {},
   "outputs": [
    {
     "data": {
      "text/plain": [
       "array([[[ 10,  30,  25],\n",
       "        [ 25,  35,  45]],\n",
       "\n",
       "       [[100, 300, 200],\n",
       "        [203, 303, 403]],\n",
       "\n",
       "       [[204, 304, 404],\n",
       "        [  5,   2,   1]]])"
      ]
     },
     "execution_count": 24,
     "metadata": {},
     "output_type": "execute_result"
    }
   ],
   "source": [
    "ary=a.reshape(3,2,3)\n",
    "ary"
   ]
  },
  {
   "cell_type": "code",
   "execution_count": 25,
   "id": "f2eb5942",
   "metadata": {},
   "outputs": [
    {
     "data": {
      "text/plain": [
       "(3, 2, 3)"
      ]
     },
     "execution_count": 25,
     "metadata": {},
     "output_type": "execute_result"
    }
   ],
   "source": [
    "ary.shape"
   ]
  },
  {
   "cell_type": "code",
   "execution_count": 26,
   "id": "31b73d4f",
   "metadata": {},
   "outputs": [],
   "source": [
    "a=np.array([1,2,3,4,5,6,7,8,9,0],dtype=str,copy=True)"
   ]
  },
  {
   "cell_type": "code",
   "execution_count": 27,
   "id": "48230cbf",
   "metadata": {},
   "outputs": [
    {
     "data": {
      "text/plain": [
       "numpy.ndarray"
      ]
     },
     "execution_count": 27,
     "metadata": {},
     "output_type": "execute_result"
    }
   ],
   "source": [
    "type(a)"
   ]
  },
  {
   "cell_type": "code",
   "execution_count": 28,
   "id": "02953ab7",
   "metadata": {},
   "outputs": [
    {
     "name": "stdout",
     "output_type": "stream",
     "text": [
      "['1' '2' '3' '4' '5' '6' '7' '8' '9' '0']\n"
     ]
    }
   ],
   "source": [
    "print(a)"
   ]
  },
  {
   "cell_type": "code",
   "execution_count": 29,
   "id": "2ee10448",
   "metadata": {},
   "outputs": [],
   "source": [
    "a=np.array([[1,2],[2,4]], dtype=int, copy=True,order='F',subok=True,ndmin=3)"
   ]
  },
  {
   "cell_type": "code",
   "execution_count": 30,
   "id": "95b31890",
   "metadata": {},
   "outputs": [
    {
     "name": "stdout",
     "output_type": "stream",
     "text": [
      "<class 'numpy.ndarray'>\n",
      "3\n",
      "4\n",
      "8\n",
      "32\n",
      "  C_CONTIGUOUS : False\n",
      "  F_CONTIGUOUS : True\n",
      "  OWNDATA : False\n",
      "  WRITEABLE : True\n",
      "  ALIGNED : True\n",
      "  WRITEBACKIFCOPY : False\n",
      "\n",
      "<memory at 0x000001AE9F66E890>\n"
     ]
    }
   ],
   "source": [
    "print(type(a))\n",
    "print(a.ndim)\n",
    "print(a.size)\n",
    "print(a.itemsize)\n",
    "print(a.nbytes)\n",
    "print(a.flags)\n",
    "print(a.data)"
   ]
  },
  {
   "cell_type": "code",
   "execution_count": 31,
   "id": "3aa62174",
   "metadata": {},
   "outputs": [
    {
     "name": "stdout",
     "output_type": "stream",
     "text": [
      "Help on _ArrayFunctionDispatcher in module numpy:\n",
      "\n",
      "put(a, ind, v, mode='raise')\n",
      "    Replaces specified elements of an array with given values.\n",
      "\n",
      "    The indexing works on the flattened target array. `put` is roughly\n",
      "    equivalent to:\n",
      "\n",
      "    ::\n",
      "\n",
      "        a.flat[ind] = v\n",
      "\n",
      "    Parameters\n",
      "    ----------\n",
      "    a : ndarray\n",
      "        Target array.\n",
      "    ind : array_like\n",
      "        Target indices, interpreted as integers.\n",
      "    v : array_like\n",
      "        Values to place in `a` at target indices. If `v` is shorter than\n",
      "        `ind` it will be repeated as necessary.\n",
      "    mode : {'raise', 'wrap', 'clip'}, optional\n",
      "        Specifies how out-of-bounds indices will behave.\n",
      "\n",
      "        * 'raise' -- raise an error (default)\n",
      "        * 'wrap' -- wrap around\n",
      "        * 'clip' -- clip to the range\n",
      "\n",
      "        'clip' mode means that all indices that are too large are replaced\n",
      "        by the index that addresses the last element along that axis. Note\n",
      "        that this disables indexing with negative numbers. In 'raise' mode,\n",
      "        if an exception occurs the target array may still be modified.\n",
      "\n",
      "    See Also\n",
      "    --------\n",
      "    putmask, place\n",
      "    put_along_axis : Put elements by matching the array and the index arrays\n",
      "\n",
      "    Examples\n",
      "    --------\n",
      "    >>> a = np.arange(5)\n",
      "    >>> np.put(a, [0, 2], [-44, -55])\n",
      "    >>> a\n",
      "    array([-44,   1, -55,   3,   4])\n",
      "\n",
      "    >>> a = np.arange(5)\n",
      "    >>> np.put(a, 22, -5, mode='clip')\n",
      "    >>> a\n",
      "    array([ 0,  1,  2,  3, -5])\n",
      "\n",
      "None\n"
     ]
    }
   ],
   "source": [
    "print(help(np.put))"
   ]
  },
  {
   "cell_type": "code",
   "execution_count": 32,
   "id": "0d024c08",
   "metadata": {},
   "outputs": [
    {
     "data": {
      "text/plain": [
       "array([5, 6, 7, 8, 9])"
      ]
     },
     "execution_count": 32,
     "metadata": {},
     "output_type": "execute_result"
    }
   ],
   "source": [
    "np.arange(5,10)"
   ]
  },
  {
   "cell_type": "code",
   "execution_count": 33,
   "id": "f63b6c3a",
   "metadata": {},
   "outputs": [
    {
     "name": "stdout",
     "output_type": "stream",
     "text": [
      "[1 2 3 4 5 6 7 8 9 0 10 11 12 13]\n"
     ]
    }
   ],
   "source": [
    "a=np.array([1,2,3,4,5,6,7,8,9,0,10,11,12,13],dtype=object)\n",
    "print(a)"
   ]
  },
  {
   "cell_type": "code",
   "execution_count": 34,
   "id": "aae67126",
   "metadata": {},
   "outputs": [
    {
     "name": "stdout",
     "output_type": "stream",
     "text": [
      "None\n"
     ]
    }
   ],
   "source": [
    "print(np.put(a,[10,11],[\"Manivel\",\"King\"]))"
   ]
  },
  {
   "cell_type": "code",
   "execution_count": 35,
   "id": "5ff52db4",
   "metadata": {},
   "outputs": [
    {
     "data": {
      "text/plain": [
       "array([1, 2, 3, 4, 5, 6, 7, 8, 9, 0, 'Manivel', 'King', 12, 13],\n",
       "      dtype=object)"
      ]
     },
     "execution_count": 35,
     "metadata": {},
     "output_type": "execute_result"
    }
   ],
   "source": [
    "a"
   ]
  },
  {
   "cell_type": "code",
   "execution_count": 36,
   "id": "45e28edc",
   "metadata": {},
   "outputs": [],
   "source": [
    "dt = np.dtype([('age',np.int8),('sex','U20')])"
   ]
  },
  {
   "cell_type": "code",
   "execution_count": 37,
   "id": "8dc34c9a",
   "metadata": {},
   "outputs": [],
   "source": [
    "b=np.array((10,\"Manivel Rengasamy\"),dtype=dt)"
   ]
  },
  {
   "cell_type": "code",
   "execution_count": 38,
   "id": "a22ff835",
   "metadata": {},
   "outputs": [
    {
     "name": "stdout",
     "output_type": "stream",
     "text": [
      "(10, 'Manivel Rengasamy')\n"
     ]
    }
   ],
   "source": [
    "print(b)"
   ]
  },
  {
   "cell_type": "code",
   "execution_count": 39,
   "id": "a05d0841",
   "metadata": {},
   "outputs": [
    {
     "data": {
      "text/plain": [
       "numpy.dtypes.VoidDType"
      ]
     },
     "execution_count": 39,
     "metadata": {},
     "output_type": "execute_result"
    }
   ],
   "source": [
    "type(dt)"
   ]
  },
  {
   "cell_type": "code",
   "execution_count": 40,
   "id": "dd2b2bf2",
   "metadata": {},
   "outputs": [],
   "source": [
    "import numpy as np\n",
    "dt = np.dtype([(\"U20\", np.int8)])"
   ]
  },
  {
   "cell_type": "code",
   "execution_count": 41,
   "id": "d4ef9dde",
   "metadata": {},
   "outputs": [
    {
     "name": "stdout",
     "output_type": "stream",
     "text": [
      "[('name', 'S20'), ('age', 'i1'), ('marks', '<f4')]\n"
     ]
    }
   ],
   "source": [
    "import numpy as np \n",
    "student = np.dtype([('name','S20'),('age','i1'),('marks','f4')]) \n",
    "print(student)"
   ]
  },
  {
   "cell_type": "code",
   "execution_count": 42,
   "id": "7fa621b7",
   "metadata": {},
   "outputs": [
    {
     "name": "stdout",
     "output_type": "stream",
     "text": [
      "False\n"
     ]
    }
   ],
   "source": [
    "import inspect\n",
    "print(inspect.isfunction(a.itemsize))"
   ]
  },
  {
   "cell_type": "code",
   "execution_count": 65,
   "id": "e868a395",
   "metadata": {},
   "outputs": [
    {
     "name": "stdout",
     "output_type": "stream",
     "text": [
      "[[6.95282267e-310 9.13979358e-312 6.95282267e-310]\n",
      " [6.95282267e-310 6.95282267e-310 6.95282267e-310]\n",
      " [6.95282267e-310 9.13979358e-312 6.95282262e-310]\n",
      " ...\n",
      " [9.13777206e-312 9.13777206e-312 9.13979404e-312]\n",
      " [6.95282267e-310 6.95282267e-310 6.95282267e-310]\n",
      " [6.95282267e-310 9.13979404e-312 6.95282267e-310]]\n"
     ]
    }
   ],
   "source": [
    "a = np.empty(shape=(400,3),dtype=float,order='C') \n",
    "print(a)"
   ]
  },
  {
   "cell_type": "code",
   "execution_count": 66,
   "id": "5273e10b",
   "metadata": {},
   "outputs": [],
   "source": [
    "import pandas as pd"
   ]
  },
  {
   "cell_type": "code",
   "execution_count": 67,
   "id": "8093cc59",
   "metadata": {},
   "outputs": [],
   "source": [
    "A=pd.DataFrame(a)"
   ]
  },
  {
   "cell_type": "code",
   "execution_count": 68,
   "id": "bd4f0ad1",
   "metadata": {},
   "outputs": [
    {
     "data": {
      "text/html": [
       "<div>\n",
       "<style scoped>\n",
       "    .dataframe tbody tr th:only-of-type {\n",
       "        vertical-align: middle;\n",
       "    }\n",
       "\n",
       "    .dataframe tbody tr th {\n",
       "        vertical-align: top;\n",
       "    }\n",
       "\n",
       "    .dataframe thead th {\n",
       "        text-align: right;\n",
       "    }\n",
       "</style>\n",
       "<table border=\"1\" class=\"dataframe\">\n",
       "  <thead>\n",
       "    <tr style=\"text-align: right;\">\n",
       "      <th></th>\n",
       "      <th>0</th>\n",
       "      <th>1</th>\n",
       "      <th>2</th>\n",
       "    </tr>\n",
       "  </thead>\n",
       "  <tbody>\n",
       "    <tr>\n",
       "      <th>0</th>\n",
       "      <td>6.952823e-310</td>\n",
       "      <td>9.139794e-312</td>\n",
       "      <td>6.952823e-310</td>\n",
       "    </tr>\n",
       "    <tr>\n",
       "      <th>1</th>\n",
       "      <td>6.952823e-310</td>\n",
       "      <td>6.952823e-310</td>\n",
       "      <td>6.952823e-310</td>\n",
       "    </tr>\n",
       "    <tr>\n",
       "      <th>2</th>\n",
       "      <td>6.952823e-310</td>\n",
       "      <td>9.139794e-312</td>\n",
       "      <td>6.952823e-310</td>\n",
       "    </tr>\n",
       "    <tr>\n",
       "      <th>3</th>\n",
       "      <td>6.952823e-310</td>\n",
       "      <td>6.952823e-310</td>\n",
       "      <td>6.952823e-310</td>\n",
       "    </tr>\n",
       "    <tr>\n",
       "      <th>4</th>\n",
       "      <td>9.139794e-312</td>\n",
       "      <td>9.139794e-312</td>\n",
       "      <td>6.952823e-310</td>\n",
       "    </tr>\n",
       "    <tr>\n",
       "      <th>...</th>\n",
       "      <td>...</td>\n",
       "      <td>...</td>\n",
       "      <td>...</td>\n",
       "    </tr>\n",
       "    <tr>\n",
       "      <th>395</th>\n",
       "      <td>6.952823e-310</td>\n",
       "      <td>6.952823e-310</td>\n",
       "      <td>6.952823e-310</td>\n",
       "    </tr>\n",
       "    <tr>\n",
       "      <th>396</th>\n",
       "      <td>6.952823e-310</td>\n",
       "      <td>6.952823e-310</td>\n",
       "      <td>9.137772e-312</td>\n",
       "    </tr>\n",
       "    <tr>\n",
       "      <th>397</th>\n",
       "      <td>9.137772e-312</td>\n",
       "      <td>9.137772e-312</td>\n",
       "      <td>9.139794e-312</td>\n",
       "    </tr>\n",
       "    <tr>\n",
       "      <th>398</th>\n",
       "      <td>6.952823e-310</td>\n",
       "      <td>6.952823e-310</td>\n",
       "      <td>6.952823e-310</td>\n",
       "    </tr>\n",
       "    <tr>\n",
       "      <th>399</th>\n",
       "      <td>6.952823e-310</td>\n",
       "      <td>9.139794e-312</td>\n",
       "      <td>6.952823e-310</td>\n",
       "    </tr>\n",
       "  </tbody>\n",
       "</table>\n",
       "<p>400 rows × 3 columns</p>\n",
       "</div>"
      ],
      "text/plain": [
       "                 0              1              2\n",
       "0    6.952823e-310  9.139794e-312  6.952823e-310\n",
       "1    6.952823e-310  6.952823e-310  6.952823e-310\n",
       "2    6.952823e-310  9.139794e-312  6.952823e-310\n",
       "3    6.952823e-310  6.952823e-310  6.952823e-310\n",
       "4    9.139794e-312  9.139794e-312  6.952823e-310\n",
       "..             ...            ...            ...\n",
       "395  6.952823e-310  6.952823e-310  6.952823e-310\n",
       "396  6.952823e-310  6.952823e-310  9.137772e-312\n",
       "397  9.137772e-312  9.137772e-312  9.139794e-312\n",
       "398  6.952823e-310  6.952823e-310  6.952823e-310\n",
       "399  6.952823e-310  9.139794e-312  6.952823e-310\n",
       "\n",
       "[400 rows x 3 columns]"
      ]
     },
     "execution_count": 68,
     "metadata": {},
     "output_type": "execute_result"
    }
   ],
   "source": [
    "A"
   ]
  },
  {
   "cell_type": "code",
   "execution_count": 69,
   "id": "fa0a3a99",
   "metadata": {},
   "outputs": [],
   "source": [
    "A.columns=[\"A\",\"B\",\"C\"]"
   ]
  },
  {
   "cell_type": "code",
   "execution_count": 56,
   "id": "daa1dcef",
   "metadata": {},
   "outputs": [
    {
     "data": {
      "text/html": [
       "<div>\n",
       "<style scoped>\n",
       "    .dataframe tbody tr th:only-of-type {\n",
       "        vertical-align: middle;\n",
       "    }\n",
       "\n",
       "    .dataframe tbody tr th {\n",
       "        vertical-align: top;\n",
       "    }\n",
       "\n",
       "    .dataframe thead th {\n",
       "        text-align: right;\n",
       "    }\n",
       "</style>\n",
       "<table border=\"1\" class=\"dataframe\">\n",
       "  <thead>\n",
       "    <tr style=\"text-align: right;\">\n",
       "      <th></th>\n",
       "      <th>A</th>\n",
       "      <th>B</th>\n",
       "      <th>C</th>\n",
       "    </tr>\n",
       "  </thead>\n",
       "  <tbody>\n",
       "    <tr>\n",
       "      <th>0</th>\n",
       "      <td>9.881313e-324</td>\n",
       "      <td>9.314728e-315</td>\n",
       "      <td>0.000000e+00</td>\n",
       "    </tr>\n",
       "    <tr>\n",
       "      <th>1</th>\n",
       "      <td>1.684764e-321</td>\n",
       "      <td>NaN</td>\n",
       "      <td>5.562748e-309</td>\n",
       "    </tr>\n",
       "    <tr>\n",
       "      <th>2</th>\n",
       "      <td>1.112552e-308</td>\n",
       "      <td>4.450185e-307</td>\n",
       "      <td>5.340473e-307</td>\n",
       "    </tr>\n",
       "    <tr>\n",
       "      <th>3</th>\n",
       "      <td>6.230516e-307</td>\n",
       "      <td>NaN</td>\n",
       "      <td>6.452765e-307</td>\n",
       "    </tr>\n",
       "    <tr>\n",
       "      <th>4</th>\n",
       "      <td>5.286061e-303</td>\n",
       "      <td>7.120359e-307</td>\n",
       "      <td>NaN</td>\n",
       "    </tr>\n",
       "    <tr>\n",
       "      <th>...</th>\n",
       "      <td>...</td>\n",
       "      <td>...</td>\n",
       "      <td>...</td>\n",
       "    </tr>\n",
       "    <tr>\n",
       "      <th>395</th>\n",
       "      <td>9.137841e-312</td>\n",
       "      <td>6.952823e-310</td>\n",
       "      <td>9.139794e-312</td>\n",
       "    </tr>\n",
       "    <tr>\n",
       "      <th>396</th>\n",
       "      <td>9.139794e-312</td>\n",
       "      <td>9.137628e-312</td>\n",
       "      <td>6.952823e-310</td>\n",
       "    </tr>\n",
       "    <tr>\n",
       "      <th>397</th>\n",
       "      <td>9.139794e-312</td>\n",
       "      <td>9.137501e-312</td>\n",
       "      <td>9.137809e-312</td>\n",
       "    </tr>\n",
       "    <tr>\n",
       "      <th>398</th>\n",
       "      <td>6.952823e-310</td>\n",
       "      <td>9.139794e-312</td>\n",
       "      <td>9.137842e-312</td>\n",
       "    </tr>\n",
       "    <tr>\n",
       "      <th>399</th>\n",
       "      <td>9.137811e-312</td>\n",
       "      <td>9.139794e-312</td>\n",
       "      <td>9.137628e-312</td>\n",
       "    </tr>\n",
       "  </tbody>\n",
       "</table>\n",
       "<p>400 rows × 3 columns</p>\n",
       "</div>"
      ],
      "text/plain": [
       "                 A              B              C\n",
       "0    9.881313e-324  9.314728e-315   0.000000e+00\n",
       "1    1.684764e-321            NaN  5.562748e-309\n",
       "2    1.112552e-308  4.450185e-307  5.340473e-307\n",
       "3    6.230516e-307            NaN  6.452765e-307\n",
       "4    5.286061e-303  7.120359e-307            NaN\n",
       "..             ...            ...            ...\n",
       "395  9.137841e-312  6.952823e-310  9.139794e-312\n",
       "396  9.139794e-312  9.137628e-312  6.952823e-310\n",
       "397  9.139794e-312  9.137501e-312  9.137809e-312\n",
       "398  6.952823e-310  9.139794e-312  9.137842e-312\n",
       "399  9.137811e-312  9.139794e-312  9.137628e-312\n",
       "\n",
       "[400 rows x 3 columns]"
      ]
     },
     "execution_count": 56,
     "metadata": {},
     "output_type": "execute_result"
    }
   ],
   "source": [
    "A"
   ]
  },
  {
   "cell_type": "code",
   "execution_count": 82,
   "id": "fcf3e97e",
   "metadata": {},
   "outputs": [],
   "source": [
    "a=np.ones(shape=(10,3),order=None)"
   ]
  },
  {
   "cell_type": "code",
   "execution_count": 83,
   "id": "ba02143b",
   "metadata": {},
   "outputs": [
    {
     "data": {
      "text/plain": [
       "array([[1., 1., 1.],\n",
       "       [1., 1., 1.],\n",
       "       [1., 1., 1.],\n",
       "       [1., 1., 1.],\n",
       "       [1., 1., 1.],\n",
       "       [1., 1., 1.],\n",
       "       [1., 1., 1.],\n",
       "       [1., 1., 1.],\n",
       "       [1., 1., 1.],\n",
       "       [1., 1., 1.]])"
      ]
     },
     "execution_count": 83,
     "metadata": {},
     "output_type": "execute_result"
    }
   ],
   "source": [
    "a"
   ]
  },
  {
   "cell_type": "code",
   "execution_count": 84,
   "id": "3d995536",
   "metadata": {},
   "outputs": [
    {
     "data": {
      "text/plain": [
       "array([[0, 1],\n",
       "       [2, 3],\n",
       "       [4, 5],\n",
       "       [6, 7],\n",
       "       [8, 9]])"
      ]
     },
     "execution_count": 84,
     "metadata": {},
     "output_type": "execute_result"
    }
   ],
   "source": [
    "a=np.arange(10).reshape(5,2)\n",
    "a"
   ]
  },
  {
   "cell_type": "code",
   "execution_count": 98,
   "id": "b37633ca",
   "metadata": {},
   "outputs": [],
   "source": [
    "s=b\"Manivel is the good and bad boy. He is willing to travel anywhere in the world without knowing nothing\"\n",
    "a=np.frombuffer(s,dtype=\"S1\",offset=10,count=13)"
   ]
  },
  {
   "cell_type": "code",
   "execution_count": 99,
   "id": "72866c0d",
   "metadata": {},
   "outputs": [
    {
     "data": {
      "text/plain": [
       "array([b' ', b't', b'h', b'e', b' ', b'g', b'o', b'o', b'd', b' ', b'a',\n",
       "       b'n', b'd'], dtype='|S1')"
      ]
     },
     "execution_count": 99,
     "metadata": {},
     "output_type": "execute_result"
    }
   ],
   "source": [
    "a"
   ]
  },
  {
   "cell_type": "code",
   "execution_count": 100,
   "id": "583818f1",
   "metadata": {},
   "outputs": [
    {
     "name": "stdout",
     "output_type": "stream",
     "text": [
      "[1 2 3 4]\n"
     ]
    }
   ],
   "source": [
    "a=[1,2,3,4]\n",
    "b=np.asarray(a)\n",
    "print(b)"
   ]
  },
  {
   "cell_type": "code",
   "execution_count": 102,
   "id": "ff0ada4c",
   "metadata": {},
   "outputs": [
    {
     "name": "stdout",
     "output_type": "stream",
     "text": [
      "<class 'list'>\n"
     ]
    },
    {
     "data": {
      "text/plain": [
       "numpy.ndarray"
      ]
     },
     "execution_count": 102,
     "metadata": {},
     "output_type": "execute_result"
    }
   ],
   "source": [
    "print(type(a))\n",
    "type(b)"
   ]
  },
  {
   "cell_type": "code",
   "execution_count": 103,
   "id": "72007168",
   "metadata": {},
   "outputs": [],
   "source": [
    "b=np.array(a)"
   ]
  },
  {
   "cell_type": "code",
   "execution_count": 104,
   "id": "3d31d1c6",
   "metadata": {},
   "outputs": [
    {
     "data": {
      "text/plain": [
       "array([1, 2, 3, 4])"
      ]
     },
     "execution_count": 104,
     "metadata": {},
     "output_type": "execute_result"
    }
   ],
   "source": [
    "b"
   ]
  },
  {
   "cell_type": "code",
   "execution_count": 106,
   "id": "6ff2edbb",
   "metadata": {},
   "outputs": [
    {
     "ename": "NameError",
     "evalue": "name 'nan' is not defined",
     "output_type": "error",
     "traceback": [
      "\u001b[1;31m---------------------------------------------------------------------------\u001b[0m",
      "\u001b[1;31mNameError\u001b[0m                                 Traceback (most recent call last)",
      "Cell \u001b[1;32mIn[106], line 2\u001b[0m\n\u001b[0;32m      1\u001b[0m \u001b[38;5;28;01mimport\u001b[39;00m \u001b[38;5;21;01mnumpy\u001b[39;00m \u001b[38;5;28;01mas\u001b[39;00m \u001b[38;5;21;01mnp\u001b[39;00m\n\u001b[1;32m----> 2\u001b[0m a\u001b[38;5;241m=\u001b[39m[\u001b[38;5;241m1\u001b[39m,\u001b[38;5;241m2\u001b[39m,np\u001b[38;5;241m.\u001b[39minf, np,\u001b[43mnan\u001b[49m]\n",
      "\u001b[1;31mNameError\u001b[0m: name 'nan' is not defined"
     ]
    }
   ],
   "source": [
    "import numpy as np\n",
    "a=[1,2,np.inf, np,nan]"
   ]
  },
  {
   "cell_type": "code",
   "execution_count": null,
   "id": "3802d547",
   "metadata": {},
   "outputs": [],
   "source": []
  }
 ],
 "metadata": {
  "kernelspec": {
   "display_name": "Python 3",
   "language": "python",
   "name": "python3"
  },
  "language_info": {
   "codemirror_mode": {
    "name": "ipython",
    "version": 3
   },
   "file_extension": ".py",
   "mimetype": "text/x-python",
   "name": "python",
   "nbconvert_exporter": "python",
   "pygments_lexer": "ipython3",
   "version": "3.12.8"
  }
 },
 "nbformat": 4,
 "nbformat_minor": 5
}
