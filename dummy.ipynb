{
 "cells": [
  {
   "cell_type": "code",
   "execution_count": 9,
   "id": "7f8b2119",
   "metadata": {},
   "outputs": [
    {
     "name": "stdout",
     "output_type": "stream",
     "text": [
      "Cannot perform divison\n",
      "Successfull completion\n"
     ]
    }
   ],
   "source": [
    "a=10\n",
    "b=0\n",
    "try:\n",
    "    c=a/b\n",
    "    print(c)\n",
    "except ArithmeticError:\n",
    "    print(\"Cannot perform divison\")\n",
    "finally:\n",
    "    print(\"Successfull completion\")"
   ]
  },
  {
   "cell_type": "code",
   "execution_count": 5,
   "id": "24d9a4af",
   "metadata": {},
   "outputs": [
    {
     "data": {
      "text/plain": [
       "array([0, 1, 2, 3, 4, 5, 6, 7, 8, 9, 10, 11, 12, 13, 14], dtype=object)"
      ]
     },
     "execution_count": 5,
     "metadata": {},
     "output_type": "execute_result"
    }
   ],
   "source": [
    "import numpy as np\n",
    "ndarray = np.arange(0,15,dtype=object)\n",
    "ndarray"
   ]
  },
  {
   "cell_type": "code",
   "execution_count": 7,
   "id": "606b0963",
   "metadata": {},
   "outputs": [],
   "source": [
    "array =  np.arange(0,15).reshape(5,3)"
   ]
  },
  {
   "cell_type": "code",
   "execution_count": 8,
   "id": "efabdc7d",
   "metadata": {},
   "outputs": [
    {
     "data": {
      "text/plain": [
       "array([[ 0,  1,  2],\n",
       "       [ 3,  4,  5],\n",
       "       [ 6,  7,  8],\n",
       "       [ 9, 10, 11],\n",
       "       [12, 13, 14]])"
      ]
     },
     "execution_count": 8,
     "metadata": {},
     "output_type": "execute_result"
    }
   ],
   "source": [
    "array"
   ]
  },
  {
   "cell_type": "code",
   "execution_count": 16,
   "id": "99f4d524",
   "metadata": {},
   "outputs": [],
   "source": [
    "import numpy as np\n",
    "a=[[[10,30,25],[25,35,45],[100,300,200]]]"
   ]
  },
  {
   "cell_type": "code",
   "execution_count": 17,
   "id": "a0f2dbd0",
   "metadata": {},
   "outputs": [
    {
     "data": {
      "text/plain": [
       "[[[10, 30, 25], [25, 35, 45], [100, 300, 200]]]"
      ]
     },
     "execution_count": 17,
     "metadata": {},
     "output_type": "execute_result"
    }
   ],
   "source": [
    "a"
   ]
  },
  {
   "cell_type": "code",
   "execution_count": 14,
   "id": "7d9d7543",
   "metadata": {},
   "outputs": [],
   "source": [
    "import numpy as np\n",
    "a=[[[10,30,25],[25,35,45],[100,300,200],[203,303,403],[204,304,404],[5,2,1]]]"
   ]
  },
  {
   "cell_type": "code",
   "execution_count": 15,
   "id": "5f602d2b",
   "metadata": {},
   "outputs": [
    {
     "data": {
      "text/plain": [
       "[[[10, 30, 25],\n",
       "  [25, 35, 45],\n",
       "  [100, 300, 200],\n",
       "  [203, 303, 403],\n",
       "  [204, 304, 404],\n",
       "  [5, 2, 1]]]"
      ]
     },
     "execution_count": 15,
     "metadata": {},
     "output_type": "execute_result"
    }
   ],
   "source": [
    "a"
   ]
  },
  {
   "cell_type": "code",
   "execution_count": null,
   "id": "161d6737",
   "metadata": {},
   "outputs": [],
   "source": []
  }
 ],
 "metadata": {
  "kernelspec": {
   "display_name": "Python 3",
   "language": "python",
   "name": "python3"
  },
  "language_info": {
   "codemirror_mode": {
    "name": "ipython",
    "version": 3
   },
   "file_extension": ".py",
   "mimetype": "text/x-python",
   "name": "python",
   "nbconvert_exporter": "python",
   "pygments_lexer": "ipython3",
   "version": "3.12.8"
  }
 },
 "nbformat": 4,
 "nbformat_minor": 5
}
